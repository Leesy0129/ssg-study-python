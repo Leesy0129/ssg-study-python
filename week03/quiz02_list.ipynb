{
 "cells": [
  {
   "cell_type": "markdown",
   "metadata": {},
   "source": [
    "# 쉼표코드\n",
    "\n",
    "아래 리스트값을 매개변수로 가지며 모든 항목을 쉼표와 빈칸으로 구분하는 문자열을 돌려주는 함수를 만들어보라.\n",
    "예를 들어 앞의 spam 리스트를 함수에 전달하면 'apples, bananas, tofu, and cats'를 돌려주는 것이다."
   ]
  },
  {
   "cell_type": "code",
   "execution_count": null,
   "metadata": {
    "collapsed": true
   },
   "outputs": [],
   "source": [
    "spam = ['apples', 'bananas', 'tofu', 'cats']"
   ]
  },
  {
   "cell_type": "code",
   "execution_count": null,
   "metadata": {
    "collapsed": true
   },
   "outputs": [],
   "source": [
    "def comma(spam):\n",
    "    pass\n",
    "\n",
    "comma(spam)"
   ]
  }
 ],
 "metadata": {
  "kernelspec": {
   "display_name": "Python 3",
   "language": "python",
   "name": "python3"
  },
  "language_info": {
   "codemirror_mode": {
    "name": "ipython",
    "version": 3
   },
   "file_extension": ".py",
   "mimetype": "text/x-python",
   "name": "python",
   "nbconvert_exporter": "python",
   "pygments_lexer": "ipython3",
   "version": "3.5.2"
  }
 },
 "nbformat": 4,
 "nbformat_minor": 2
}
