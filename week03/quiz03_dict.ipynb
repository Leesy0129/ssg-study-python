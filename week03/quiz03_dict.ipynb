{
 "cells": [
  {
   "cell_type": "markdown",
   "metadata": {},
   "source": [
    "지금 당신은 판타지 게임을 만들고 있다. \n",
    "플레이어의 창고를 모델링하는 데이터 구조는 창고에 들어있는 아이템을 표현하는 문자열 키, \n",
    "그리고 플레이어가 그 아이템을 얼마나 많이 가지고 있는지를 나타내는 정수 유형의 값이다.\n",
    "예를들어 사전값 {'rope': 1, 'torch': 6, 'gold coin': 42, 'dagger': 1, 'arrow': 12}는 플레이어가 가지고 있는 아이템이다.\n",
    "가지고 있는 창고 속 아이템을 모두 보여주는 displayInventory()를 만들어라."
   ]
  },
  {
   "cell_type": "code",
   "execution_count": null,
   "metadata": {
    "collapsed": true
   },
   "outputs": [],
   "source": [
    "inventory = {'rope': 1, 'torch': 6, 'gold coin': 42, 'dagger': 1, 'arrow': 12}"
   ]
  },
  {
   "cell_type": "code",
   "execution_count": null,
   "metadata": {
    "collapsed": true
   },
   "outputs": [],
   "source": [
    "def showInventory():\n",
    "    \"\"\"출력예제\n",
    "    Inventory:\n",
    "    12 arrow\n",
    "    42 gold coin\n",
    "    1 rope\n",
    "    6 torch\n",
    "    1 dagger\n",
    "    Total number of items: 62\"\"\"\n",
    "    pass"
   ]
  }
 ],
 "metadata": {
  "kernelspec": {
   "display_name": "Python 3",
   "language": "python",
   "name": "python3"
  },
  "language_info": {
   "codemirror_mode": {
    "name": "ipython",
    "version": 3
   },
   "file_extension": ".py",
   "mimetype": "text/x-python",
   "name": "python",
   "nbconvert_exporter": "python",
   "pygments_lexer": "ipython3",
   "version": "3.5.2"
  }
 },
 "nbformat": 4,
 "nbformat_minor": 2
}
