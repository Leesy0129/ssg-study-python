{
 "cells": [
  {
   "cell_type": "markdown",
   "metadata": {},
   "source": [
    "# 표 출력기\n",
    "\n",
    "문자열 리스트의 리스트를 전달 받아서 각 열이 오른쪽으로 정렬된 모양을 갖춘 표를 출력하는 printTable()라는 이름의 함수를 만들어 보라.\n",
    "리스트 안의 리스트는 똑같은 개수의 문자열을 가진것으로 가정한다.\n",
    "값은 예를 들어 다음과 같다."
   ]
  },
  {
   "cell_type": "code",
   "execution_count": 2,
   "metadata": {
    "collapsed": true
   },
   "outputs": [],
   "source": [
    "tableData = [['apples', 'oranges', 'cherries', 'banana'],\n",
    "             ['Alice', 'Bob', 'Carol', 'David'],\n",
    "             ['dogs', 'cats', 'moose', 'goose']]"
   ]
  },
  {
   "cell_type": "markdown",
   "metadata": {},
   "source": [
    "printTable() 함수는 다음과 같이 출력할 것이다.\n",
    "```\n",
    "  apples Alice  dogs\n",
    " oranges   Bob  cats\n",
    "cherries Carol moose\n",
    "  banana David goose\n",
    "```"
   ]
  },
  {
   "cell_type": "code",
   "execution_count": null,
   "metadata": {
    "collapsed": true
   },
   "outputs": [],
   "source": [
    "def printTable():\n",
    "    pass"
   ]
  },
  {
   "cell_type": "markdown",
   "metadata": {},
   "source": [
    "힌트: 코드는 먼저 그열에 들어갈 모든 문자열을 표시할 수 있을만큼 충분한 폭을 확보할 수 있도록 내부 리스트에서 가장 긴 문자열을 찾아야 할 것이다. 각 열의 최대 폭을 정수값 리스트로 저장할 수 있다. printTable() 함수는 colWidths = [0] * len(tableData)로 시작할 수 있다. 이 표현식은 tableData의 내부 리스트에 있는 숫자를 똑같이 0 값으로 가지고 있는 리스트를 만든다. 이렇게 하면 colWidths[0]은 tableData[0]의 가장 긴 문자열 폭을 저장할 수 있으며, colWidths[1]는 tableData[1]의 가장 긴 문자열 폭을 저장할 수 있는 식으로 계속된다. 그런 다음 rjust() 문자열 메소드에 전달할 정수값 폭을 알아내기 위해 colWidths 리스트에 있는 가장 큰 값을 찾을 수 있다."
   ]
  }
 ],
 "metadata": {
  "kernelspec": {
   "display_name": "Python 3",
   "language": "python",
   "name": "python3"
  },
  "language_info": {
   "codemirror_mode": {
    "name": "ipython",
    "version": 3
   },
   "file_extension": ".py",
   "mimetype": "text/x-python",
   "name": "python",
   "nbconvert_exporter": "python",
   "pygments_lexer": "ipython3",
   "version": "3.5.2"
  }
 },
 "nbformat": 4,
 "nbformat_minor": 2
}
