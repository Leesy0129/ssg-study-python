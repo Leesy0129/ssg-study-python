{
 "cells": [
  {
   "cell_type": "markdown",
   "metadata": {},
   "source": [
    "#### Befautiful Soup 4"
   ]
  },
  {
   "cell_type": "code",
   "execution_count": null,
   "metadata": {
    "collapsed": true
   },
   "outputs": [],
   "source": [
    "# BeautifulSoup 4 소개\n",
    "# 설치 방법 (윈도우 cmd)\n",
    "# cd C:\\Users\\user\\AppData\\Local\\Programs\\Python\\Python36-32\\Scripts\n",
    "# pip install beautifulsoup4\n",
    "#  Collecting beautifulsoup4\n",
    "#  Downloading beautifulsoup4-4.6.0-py3-none-any.whl (86kB)\n",
    "#    100% |##########m######################| 92kB 725kB/s\n",
    "#  Installing collected packages: beautifulsoup4\n",
    "#  Successfully installed beautifulsoup4-4.6.0\n",
    "# 설치 확인 (IDLE)\n",
    "# import bs4\n",
    "# bs4\n",
    "# <module 'bs4' from 'C:\\\\Users\\\\user\\\\AppData\\\\Local\\\\Programs\\\\Python\\\\Python36-32\\\\lib\\\\site-packages\\\\bs4\\\\__init__.py'>\n",
    "# Parser\n",
    "# 1. Python's html.parser\n",
    "# 2. lxml's HTML parser\n",
    "# 3. lxml's XML parser\n",
    "# 4. html5lib"
   ]
  },
  {
   "cell_type": "markdown",
   "metadata": {},
   "source": [
    "#### Sample Test"
   ]
  },
  {
   "cell_type": "code",
   "execution_count": 15,
   "metadata": {},
   "outputs": [
    {
     "name": "stdout",
     "output_type": "stream",
     "text": [
      "title >>> <title>The Dormouse's story</title>\n",
      "title.name >>> title\n",
      "title.string >>> The Dormouse's story\n",
      "title.parent.name >>> head\n",
      "p >>> <p class=\"title\"><b>The Dormouse's story</b></p>\n",
      "p['class'] >>> ['title']\n",
      "a >>> <a class=\"sister\" href=\"http://example.com/elsie\" id=\"link1\">Elsie</a>\n",
      "find_all('a') >>> [<a class=\"sister\" href=\"http://example.com/elsie\" id=\"link1\">Elsie</a>, <a class=\"sister\" href=\"http://example.com/lacie\" id=\"link2\">Lacie</a>, <a class=\"sister\" href=\"http://example.com/tillie\" id=\"link3\">Tillie</a>]\n",
      "find_all(id='link3') >>> [<a class=\"sister\" href=\"http://example.com/tillie\" id=\"link3\">Tillie</a>]\n",
      "\n",
      "link.get('href') >>> http://example.com/elsie\n",
      "link.get('href') >>> http://example.com/lacie\n",
      "link.get('href') >>> http://example.com/tillie\n",
      "\n",
      "soup.get_text() >>> \n",
      "The Dormouse's story\n",
      "\n",
      "The Dormouse's story\n",
      "Once upon a time there were three little sisters; and their names were\n",
      "Elsie,\n",
      "Lacie and\n",
      "Tillie;\n",
      "and they lived at the bottom of a well.\n",
      "...\n",
      "\n"
     ]
    }
   ],
   "source": [
    "from bs4 import BeautifulSoup\n",
    "\n",
    "html_doc = \"\"\"\n",
    "<html><head><title>The Dormouse's story</title></head>\n",
    "<body>\n",
    "<p class=\"title\"><b>The Dormouse's story</b></p>\n",
    "\n",
    "<p class=\"story\">Once upon a time there were three little sisters; and their names were\n",
    "<a href=\"http://example.com/elsie\" class=\"sister\" id=\"link1\">Elsie</a>,\n",
    "<a href=\"http://example.com/lacie\" class=\"sister\" id=\"link2\">Lacie</a> and\n",
    "<a href=\"http://example.com/tillie\" class=\"sister\" id=\"link3\">Tillie</a>;\n",
    "and they lived at the bottom of a well.</p>\n",
    "\n",
    "<p class=\"story\">...</p>\n",
    "\"\"\"\n",
    "\n",
    "soup = BeautifulSoup(html_doc, 'html.parser')\n",
    "\n",
    "print(\"title >>> {}\".format(soup.title))\n",
    "print(\"title.name >>> {}\".format(soup.title.name))\n",
    "print(\"title.string >>> {}\".format(soup.title.string))\n",
    "print(\"title.parent.name >>> {}\".format(soup.title.parent.name))\n",
    "print(\"p >>> {}\".format(soup.p))\n",
    "print(\"p['class'] >>> {}\".format(soup.p['class']))\n",
    "print(\"a >>> {}\".format(soup.a))\n",
    "print(\"find_all('a') >>> {}\".format(soup.find_all('a')))\n",
    "print(\"find_all(id='link3') >>> {}\".format(soup.find_all(id='link3')))\n",
    "\n",
    "print(\"\")\n",
    "\n",
    "for link in soup.find_all('a'):\n",
    "    print(\"link.get('href') >>> {}\".format(link.get('href')))\n",
    "\n",
    "print(\"\")\n",
    "\n",
    "print(\"soup.get_text() >>> {}\".format(soup.get_text()))"
   ]
  },
  {
   "cell_type": "markdown",
   "metadata": {},
   "source": [
    "#### Web crawler ( 웹 크롤러)"
   ]
  },
  {
   "cell_type": "code",
   "execution_count": 11,
   "metadata": {
    "scrolled": true
   },
   "outputs": [
    {
     "name": "stdout",
     "output_type": "stream",
     "text": [
      "bn_blist_benefit >>> [<a href=\"http://www.ssg.com/event/eventDetail.ssg?promId=1100239945\" target=\"_self\"><img alt=\"SSG카드 20%(7/31~8/4)\" height=\"109px\" src=\"http://static.ssgcdn.com/cmpt/banner/201707/2017071917325256389495635059_288.jpg\" width=\"77px\"/></a>, <a href=\"http://www.ssg.com/event/eventDetail.ssg?promId=1100242532\" target=\"_self\"><img alt=\"NH 7%(8/2~4)\" height=\"109px\" src=\"http://static.ssgcdn.com/cmpt/banner/201611/2016111115564956341465638146_799.jpg\" width=\"77px\"/></a>, <a class=\"sp_rban prev\" href=\"#\">이전 배너 보기</a>, <a class=\"sp_rban next\" href=\"#\">다음 배너 보기</a>]\n",
      ">>>> ['SSG카드', '20', '7/31', '8/4', 'http://www.ssg.com/event/eventDetail.ssg?promId=1100239945']\n",
      ">>>> ['NH', '7', '8/2', '4', 'http://www.ssg.com/event/eventDetail.ssg?promId=1100242532']\n",
      "\n",
      "\n",
      "JSON 결과 >>> {\"name\": \"청구할인\", \"SSG카드\": [\"SSG카드\", \"20\", \"7/31\", \"8/4\", \"http://www.ssg.com/event/eventDetail.ssg?promId=1100239945\"], \"NH\": [\"NH\", \"7\", \"8/2\", \"4\", \"http://www.ssg.com/event/eventDetail.ssg?promId=1100242532\"]}\n"
     ]
    }
   ],
   "source": [
    "from bs4 import BeautifulSoup\n",
    "from collections import OrderedDict\n",
    "import requests\n",
    "import json\n",
    "import re\n",
    "\n",
    "req = requests.get('http://www.ssg.com')\n",
    "\n",
    "html = req.text\n",
    "header = req.headers\n",
    "status = req.status_code\n",
    "is_os = req.ok\n",
    "\n",
    "soup = BeautifulSoup(html, 'html.parser')\n",
    "\n",
    "benifits = soup.find(id=\"bnBlistarea\")\n",
    "\n",
    "print(\"bn_blist_benefit >>> {}\".format(benifits.find_all('a')))\n",
    "\n",
    "cards_benefit = OrderedDict()\n",
    "cards_benefit[\"name\"] = \"청구할인\"\n",
    "\n",
    "for links in benifits.find_all('a'):\n",
    "    link = links.get('href')\n",
    "    if link == '#':\n",
    "        print()\n",
    "    else:    \n",
    "        cards = re.split(r'[ %(~)]',links.find('img')['alt'])\n",
    "        cards.append(link)\n",
    "        result = list(filter(None, cards))\n",
    "        print(\">>>> {}\".format(result))\n",
    "        cards_benefit[cards[0]] = result\n",
    "\n",
    "print(\"JSON 결과 >>> {}\".format(json.dumps(cards_benefit, ensure_ascii=False)))\n",
    "\n",
    "# Json Viewer 확인\n",
    "# http://jsonviewer.stack.hu/"
   ]
  }
 ],
 "metadata": {
  "kernelspec": {
   "display_name": "Python 3",
   "language": "python",
   "name": "python3"
  },
  "language_info": {
   "codemirror_mode": {
    "name": "ipython",
    "version": 3
   },
   "file_extension": ".py",
   "mimetype": "text/x-python",
   "name": "python",
   "nbconvert_exporter": "python",
   "pygments_lexer": "ipython3",
   "version": "3.6.1"
  }
 },
 "nbformat": 4,
 "nbformat_minor": 2
}
