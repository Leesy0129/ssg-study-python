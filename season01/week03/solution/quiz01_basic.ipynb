{
 "cells": [
  {
   "cell_type": "code",
   "execution_count": 1,
   "metadata": {
    "collapsed": true
   },
   "outputs": [],
   "source": [
    "def collatz(number):\n",
    "    \"\"\"짝수라면 number // 2, 홀수라면 3 * number + 1을 리턴\"\"\"\n",
    "    if number % 2 == 0:\n",
    "        # 짝수\n",
    "        return number // 2\n",
    "    else:\n",
    "        return number * 3 + 1"
   ]
  },
  {
   "cell_type": "code",
   "execution_count": 2,
   "metadata": {
    "collapsed": false
   },
   "outputs": [
    {
     "name": "stdout",
     "output_type": "stream",
     "text": [
      "Enter number: 3\n",
      "10\n",
      "Enter number: 5\n",
      "16\n",
      "Enter number: 8\n",
      "4\n",
      "Enter number: 2\n",
      "1\n"
     ]
    }
   ],
   "source": [
    "while True:\n",
    "    \"\"\"\n",
    "    사용자가 정수를 입력하고 collatz()함수가 1을 돌려줄때까지 이 함수를 계속 호출하는 프로그램을 만든다.\n",
    "    \n",
    "    프로그램 출력 예제:\n",
    "    Enter number:\n",
    "    3\n",
    "    10\n",
    "    5\n",
    "    16\n",
    "    8\n",
    "    4\n",
    "    2\n",
    "    1\n",
    "    \n",
    "    입력값 검증:\n",
    "    사용자가 정수가 아닌 문자열을 입력했는지 감지할 수 있도록 try ~ except 문을 추가하라. \n",
    "    보통 int()함수는 int('puppy')와 같이 정수값이 아닌 문자열을 받으면 ValueError 오류를 일으킨다.\n",
    "    except절에서 사용자에게 정수를 입력해야한다는 메시지를 출력하자.\n",
    "    \"\"\"\n",
    "    try:\n",
    "        number = int(input('Enter number: '))\n",
    "        number = collatz(number)\n",
    "        print(number)\n",
    "        if number == 1:\n",
    "            break\n",
    "        else:\n",
    "            continue\n",
    "    except ValueError:\n",
    "        print('정수로 입력하세요')"
   ]
  },
  {
   "cell_type": "code",
   "execution_count": null,
   "metadata": {
    "collapsed": true
   },
   "outputs": [],
   "source": []
  }
 ],
 "metadata": {
  "kernelspec": {
   "display_name": "Python 3",
   "language": "python",
   "name": "python3"
  },
  "language_info": {
   "codemirror_mode": {
    "name": "ipython",
    "version": 3
   },
   "file_extension": ".py",
   "mimetype": "text/x-python",
   "name": "python",
   "nbconvert_exporter": "python",
   "pygments_lexer": "ipython3",
   "version": "3.5.2"
  }
 },
 "nbformat": 4,
 "nbformat_minor": 2
}
